{
 "cells": [
  {
   "cell_type": "markdown",
   "metadata": {},
   "source": [
    "# C Demo"
   ]
  },
  {
   "cell_type": "code",
   "execution_count": 11,
   "metadata": {},
   "outputs": [
    {
     "name": "stdout",
     "output_type": "stream",
     "text": [
      "Hello this is Juptyer Notebook with C!\n"
     ]
    }
   ],
   "source": [
    "print(\"Hello this is Juptyer Notebook with C!\")"
   ]
  },
  {
   "cell_type": "code",
   "execution_count": 12,
   "metadata": {},
   "outputs": [
    {
     "name": "stdout",
     "output_type": "stream",
     "text": [
      "Overwriting ft_demo.c\n"
     ]
    }
   ],
   "source": [
    "%%file ft_demo.c\n",
    "#include <stdio.h>\n",
    "#include <stdlib.h>\n",
    "#include <string.h>\n",
    "\n",
    "int main(int argc, char *argv[]) {\n",
    "   int i;\n",
    "\n",
    "   i = 0;\n",
    "   while(i < argc) {\n",
    "\t(atoi(argv[i]) % 2) ? printf(\"%s is even\\n\", argv[i]) : printf(\"%s is odd\\n\", argv[i]);\n",
    "\ti++;\n",
    "   }\n",
    "    return 0;\n",
    "}"
   ]
  },
  {
   "cell_type": "code",
   "execution_count": 13,
   "metadata": {},
   "outputs": [],
   "source": [
    "import itertools as it\n",
    "\n",
    "perms = it.permutations([1, 2, 3]) \n",
    "\n",
    "with open('permutations.txt', 'w') as f:\n",
    "    for item in perms:\n",
    "        s = str(item)\n",
    "        s = s.replace('(', '').replace(')', '').replace(',', '')  \n",
    "        f.write(s + '\\n')"
   ]
  },
  {
   "cell_type": "code",
   "execution_count": 14,
   "metadata": {},
   "outputs": [
    {
     "name": "stdout",
     "output_type": "stream",
     "text": [
      "./c_program.out is odd\n",
      "1 is even\n",
      "2 is odd\n",
      "3 is even\n",
      "./c_program.out is odd\n",
      "1 is even\n",
      "2 is odd\n",
      "3 is even\n",
      "./c_program.out is odd\n",
      "1 is even\n",
      "3 is even\n",
      "2 is odd\n",
      "./c_program.out is odd\n",
      "1 is even\n",
      "2 is odd\n",
      "3 is even\n",
      "./c_program.out is odd\n",
      "1 is even\n",
      "3 is even\n",
      "2 is odd\n",
      "./c_program.out is odd\n",
      "2 is odd\n",
      "1 is even\n",
      "3 is even\n",
      "./c_program.out is odd\n",
      "1 is even\n",
      "2 is odd\n",
      "3 is even\n",
      "./c_program.out is odd\n",
      "1 is even\n",
      "3 is even\n",
      "2 is odd\n",
      "./c_program.out is odd\n",
      "2 is odd\n",
      "1 is even\n",
      "3 is even\n",
      "./c_program.out is odd\n",
      "2 is odd\n",
      "3 is even\n",
      "1 is even\n",
      "./c_program.out is odd\n",
      "1 is even\n",
      "2 is odd\n",
      "3 is even\n",
      "./c_program.out is odd\n",
      "1 is even\n",
      "3 is even\n",
      "2 is odd\n",
      "./c_program.out is odd\n",
      "2 is odd\n",
      "1 is even\n",
      "3 is even\n",
      "./c_program.out is odd\n",
      "2 is odd\n",
      "3 is even\n",
      "1 is even\n",
      "./c_program.out is odd\n",
      "3 is even\n",
      "1 is even\n",
      "2 is odd\n",
      "./c_program.out is odd\n",
      "1 is even\n",
      "2 is odd\n",
      "3 is even\n",
      "./c_program.out is odd\n",
      "1 is even\n",
      "3 is even\n",
      "2 is odd\n",
      "./c_program.out is odd\n",
      "2 is odd\n",
      "1 is even\n",
      "3 is even\n",
      "./c_program.out is odd\n",
      "2 is odd\n",
      "3 is even\n",
      "1 is even\n",
      "./c_program.out is odd\n",
      "3 is even\n",
      "1 is even\n",
      "2 is odd\n",
      "./c_program.out is odd\n",
      "3 is even\n",
      "2 is odd\n",
      "1 is even\n"
     ]
    }
   ],
   "source": [
    "%%bash\n",
    "#!/bin/bash\n",
    "cc ft_demo.c -o c_program.out -g3 -fsanitize=address -fsanitize=undefined\n",
    "echo \"\" > output.txt\n",
    "cat permutations.txt | while read line\n",
    "do\n",
    "\t./c_program.out $line >> output_values.txt\n",
    "\tcat output_values.txt\n",
    "done"
   ]
  },
  {
   "cell_type": "code",
   "execution_count": 17,
   "metadata": {},
   "outputs": [
    {
     "ename": "CalledProcessError",
     "evalue": "Command 'b'#!/bin/bash\\n\\tvalgrind ./c_program.out $line >> output_valgrind.txt 2>&1\\n'' returned non-zero exit status 1.",
     "output_type": "error",
     "traceback": [
      "\u001b[0;31m---------------------------------------------------------------------------\u001b[0m",
      "\u001b[0;31mCalledProcessError\u001b[0m                        Traceback (most recent call last)",
      "Cell \u001b[0;32mIn[17], line 1\u001b[0m\n\u001b[0;32m----> 1\u001b[0m \u001b[43mget_ipython\u001b[49m\u001b[43m(\u001b[49m\u001b[43m)\u001b[49m\u001b[38;5;241;43m.\u001b[39;49m\u001b[43mrun_cell_magic\u001b[49m\u001b[43m(\u001b[49m\u001b[38;5;124;43m'\u001b[39;49m\u001b[38;5;124;43mbash\u001b[39;49m\u001b[38;5;124;43m'\u001b[39;49m\u001b[43m,\u001b[49m\u001b[43m \u001b[49m\u001b[38;5;124;43m'\u001b[39;49m\u001b[38;5;124;43m'\u001b[39;49m\u001b[43m,\u001b[49m\u001b[43m \u001b[49m\u001b[38;5;124;43m'\u001b[39;49m\u001b[38;5;124;43m#!/bin/bash\u001b[39;49m\u001b[38;5;130;43;01m\\n\u001b[39;49;00m\u001b[38;5;130;43;01m\\t\u001b[39;49;00m\u001b[38;5;124;43mvalgrind ./c_program.out $line >> output_valgrind.txt 2>&1\u001b[39;49m\u001b[38;5;130;43;01m\\n\u001b[39;49;00m\u001b[38;5;124;43m'\u001b[39;49m\u001b[43m)\u001b[49m\n",
      "File \u001b[0;32m~/Documents/L-ecole-42/.venv/lib/python3.12/site-packages/IPython/core/interactiveshell.py:2541\u001b[0m, in \u001b[0;36mInteractiveShell.run_cell_magic\u001b[0;34m(self, magic_name, line, cell)\u001b[0m\n\u001b[1;32m   2539\u001b[0m \u001b[38;5;28;01mwith\u001b[39;00m \u001b[38;5;28mself\u001b[39m\u001b[38;5;241m.\u001b[39mbuiltin_trap:\n\u001b[1;32m   2540\u001b[0m     args \u001b[38;5;241m=\u001b[39m (magic_arg_s, cell)\n\u001b[0;32m-> 2541\u001b[0m     result \u001b[38;5;241m=\u001b[39m \u001b[43mfn\u001b[49m\u001b[43m(\u001b[49m\u001b[38;5;241;43m*\u001b[39;49m\u001b[43margs\u001b[49m\u001b[43m,\u001b[49m\u001b[43m \u001b[49m\u001b[38;5;241;43m*\u001b[39;49m\u001b[38;5;241;43m*\u001b[39;49m\u001b[43mkwargs\u001b[49m\u001b[43m)\u001b[49m\n\u001b[1;32m   2543\u001b[0m \u001b[38;5;66;03m# The code below prevents the output from being displayed\u001b[39;00m\n\u001b[1;32m   2544\u001b[0m \u001b[38;5;66;03m# when using magics with decorator @output_can_be_silenced\u001b[39;00m\n\u001b[1;32m   2545\u001b[0m \u001b[38;5;66;03m# when the last Python token in the expression is a ';'.\u001b[39;00m\n\u001b[1;32m   2546\u001b[0m \u001b[38;5;28;01mif\u001b[39;00m \u001b[38;5;28mgetattr\u001b[39m(fn, magic\u001b[38;5;241m.\u001b[39mMAGIC_OUTPUT_CAN_BE_SILENCED, \u001b[38;5;28;01mFalse\u001b[39;00m):\n",
      "File \u001b[0;32m~/Documents/L-ecole-42/.venv/lib/python3.12/site-packages/IPython/core/magics/script.py:155\u001b[0m, in \u001b[0;36mScriptMagics._make_script_magic.<locals>.named_script_magic\u001b[0;34m(line, cell)\u001b[0m\n\u001b[1;32m    153\u001b[0m \u001b[38;5;28;01melse\u001b[39;00m:\n\u001b[1;32m    154\u001b[0m     line \u001b[38;5;241m=\u001b[39m script\n\u001b[0;32m--> 155\u001b[0m \u001b[38;5;28;01mreturn\u001b[39;00m \u001b[38;5;28;43mself\u001b[39;49m\u001b[38;5;241;43m.\u001b[39;49m\u001b[43mshebang\u001b[49m\u001b[43m(\u001b[49m\u001b[43mline\u001b[49m\u001b[43m,\u001b[49m\u001b[43m \u001b[49m\u001b[43mcell\u001b[49m\u001b[43m)\u001b[49m\n",
      "File \u001b[0;32m~/Documents/L-ecole-42/.venv/lib/python3.12/site-packages/IPython/core/magics/script.py:315\u001b[0m, in \u001b[0;36mScriptMagics.shebang\u001b[0;34m(self, line, cell)\u001b[0m\n\u001b[1;32m    310\u001b[0m \u001b[38;5;28;01mif\u001b[39;00m args\u001b[38;5;241m.\u001b[39mraise_error \u001b[38;5;129;01mand\u001b[39;00m p\u001b[38;5;241m.\u001b[39mreturncode \u001b[38;5;241m!=\u001b[39m \u001b[38;5;241m0\u001b[39m:\n\u001b[1;32m    311\u001b[0m     \u001b[38;5;66;03m# If we get here and p.returncode is still None, we must have\u001b[39;00m\n\u001b[1;32m    312\u001b[0m     \u001b[38;5;66;03m# killed it but not yet seen its return code. We don't wait for it,\u001b[39;00m\n\u001b[1;32m    313\u001b[0m     \u001b[38;5;66;03m# in case it's stuck in uninterruptible sleep. -9 = SIGKILL\u001b[39;00m\n\u001b[1;32m    314\u001b[0m     rc \u001b[38;5;241m=\u001b[39m p\u001b[38;5;241m.\u001b[39mreturncode \u001b[38;5;129;01mor\u001b[39;00m \u001b[38;5;241m-\u001b[39m\u001b[38;5;241m9\u001b[39m\n\u001b[0;32m--> 315\u001b[0m     \u001b[38;5;28;01mraise\u001b[39;00m CalledProcessError(rc, cell)\n",
      "\u001b[0;31mCalledProcessError\u001b[0m: Command 'b'#!/bin/bash\\n\\tvalgrind ./c_program.out $line >> output_valgrind.txt 2>&1\\n'' returned non-zero exit status 1."
     ]
    }
   ],
   "source": [
    "%%bash\n",
    "#!/bin/bash\n",
    "\tvalgrind ./c_program.out $line >> output_valgrind.txt 2>&1"
   ]
  }
 ],
 "metadata": {
  "kernelspec": {
   "display_name": ".venv",
   "language": "python",
   "name": ".venv"
  },
  "language_info": {
   "codemirror_mode": {
    "name": "ipython",
    "version": 3
   },
   "file_extension": ".py",
   "mimetype": "text/x-python",
   "name": "python",
   "nbconvert_exporter": "python",
   "pygments_lexer": "ipython3",
   "version": "3.12.3"
  }
 },
 "nbformat": 4,
 "nbformat_minor": 2
}
