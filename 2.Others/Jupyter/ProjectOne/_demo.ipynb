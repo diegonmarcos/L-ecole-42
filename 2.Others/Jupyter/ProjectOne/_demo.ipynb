{
 "cells": [
  {
   "cell_type": "markdown",
   "metadata": {},
   "source": [
    "# C Demo"
   ]
  },
  {
   "cell_type": "code",
   "execution_count": 85,
   "metadata": {},
   "outputs": [
    {
     "name": "stdout",
     "output_type": "stream",
     "text": [
      "Hello this is Juptyer Notebook with C!\n"
     ]
    }
   ],
   "source": [
    "print(\"Hello this is Juptyer Notebook with C!\")"
   ]
  },
  {
   "cell_type": "code",
   "execution_count": 86,
   "metadata": {},
   "outputs": [
    {
     "name": "stdout",
     "output_type": "stream",
     "text": [
      "Overwriting ft_demo.c\n"
     ]
    }
   ],
   "source": [
    "%%file ft_demo.c\n",
    "#include <stdio.h>\n",
    "#include <stdlib.h>\n",
    "\n",
    "int main(int argc, char *argv[]) {\n",
    "   (void) argc;\n",
    "   (void) argv;\n",
    "   for (int i = 0; i < 10; i++) {\n",
    "\t  printf(\"Hello, World! %d\\n\", i);\n",
    "\t}\n",
    "    return 0;\n",
    "}"
   ]
  },
  {
   "cell_type": "code",
   "execution_count": 87,
   "metadata": {},
   "outputs": [],
   "source": [
    "%%bash\n",
    "#!/bin/bash\n",
    "\n",
    "cc ft_demo.c -o c_program.out"
   ]
  },
  {
   "cell_type": "code",
   "execution_count": 88,
   "metadata": {},
   "outputs": [
    {
     "name": "stdout",
     "output_type": "stream",
     "text": [
      "Hello, World! 0\n",
      "Hello, World! 1\n",
      "Hello, World! 2\n",
      "Hello, World! 3\n",
      "Hello, World! 4\n",
      "Hello, World! 5\n",
      "Hello, World! 6\n",
      "Hello, World! 7\n",
      "Hello, World! 8\n",
      "Hello, World! 9\n"
     ]
    }
   ],
   "source": [
    "%%bash\n",
    "./c_program.out 1 2 3 4 5 >> output_values.txt\n",
    "cat output_values.txt\n"
   ]
  },
  {
   "cell_type": "code",
   "execution_count": 89,
   "metadata": {},
   "outputs": [
    {
     "name": "stdout",
     "output_type": "stream",
     "text": [
      "==26384== Memcheck, a memory error detector\n",
      "==26384== Copyright (C) 2002-2022, and GNU GPL'd, by Julian Seward et al.\n",
      "==26384== Using Valgrind-3.22.0 and LibVEX; rerun with -h for copyright info\n",
      "==26384== Command: ./c_program_dbg.out 1 2 3 4 5\n",
      "==26384== \n",
      "==26384==ASan runtime does not come first in initial library list; you should either link runtime to your application or manually preload it with LD_PRELOAD.\n",
      "==26384== \n",
      "==26384== HEAP SUMMARY:\n",
      "==26384==     in use at exit: 0 bytes in 0 blocks\n",
      "==26384==   total heap usage: 0 allocs, 0 frees, 0 bytes allocated\n",
      "==26384== \n",
      "==26384== All heap blocks were freed -- no leaks are possible\n",
      "==26384== \n",
      "==26384== For lists of detected and suppressed errors, rerun with: -s\n",
      "==26384== ERROR SUMMARY: 0 errors from 0 contexts (suppressed: 0 from 0)\n"
     ]
    }
   ],
   "source": [
    "%%bash\n",
    "\n",
    "cc ft_demo.c -o c_program_dbg.out -g3 -fsanitize=address -fsanitize=undefined -fsanitize=leak -Wall -Wextra -Wpedantic -Werror\n",
    "valgrind ./c_program_dbg.out 1 2 3 4 5 &>> output_valgrind.txt\n",
    "cat output_valgrind.txt\n"
   ]
  },
  {
   "cell_type": "code",
   "execution_count": 90,
   "metadata": {},
   "outputs": [],
   "source": [
    "%%bash\n",
    "#rm *.txt *.out"
   ]
  }
 ],
 "metadata": {
  "kernelspec": {
   "display_name": ".venv",
   "language": "python",
   "name": ".venv"
  },
  "language_info": {
   "codemirror_mode": {
    "name": "ipython",
    "version": 3
   },
   "file_extension": ".py",
   "mimetype": "text/x-python",
   "name": "python",
   "nbconvert_exporter": "python",
   "pygments_lexer": "ipython3",
   "version": "3.12.3"
  }
 },
 "nbformat": 4,
 "nbformat_minor": 2
}
